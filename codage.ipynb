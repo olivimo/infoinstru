{
 "cells": [
  {
   "cell_type": "code",
   "execution_count": 32,
   "id": "dated-keeping",
   "metadata": {},
   "outputs": [],
   "source": [
    "import random\n",
    "from ipywidgets import interact, interactive, fixed, interact_manual\n",
    "import ipywidgets as widgets"
   ]
  },
  {
   "cell_type": "code",
   "execution_count": 30,
   "id": "smoking-copyright",
   "metadata": {},
   "outputs": [],
   "source": [
    "def f(x):\n",
    "    print(f\"Soit une mémoire de 8 bits dont le contenu exprimé en base 16 est donné par : {x:02x}.\")\n",
    "    print(f\"\\nExprimez les valeurs des 8 bits de la mémoire :\")\n",
    "    contenu =  f\"{x:08b}\"\n",
    "    print(f\">>> {contenu}\")\n",
    "    print(\"\\nDonnez la valeur décimale stockée en mémoire si le code binaire naturel était utilisé :\")\n",
    "    resultat = bn(contenu)\n",
    "    print(f\">>> {resultat}\")\n",
    "    print(\"\\nDonnez la valeur décimale stockée en mémoire si le code binaire naturel était utilisé :\")\n",
    "    resultat = bn(contenu)\n",
    "    print(f\">>> {resultat}\")\n",
    "\n",
    "    print(\"\\nDonnez la valeur décimale stockée en mémoire si le code BCD était utilisé :\")\n",
    "    resultat = bcd(contenu)\n",
    "    print(f\">>> {resultat}\")\n",
    "\n",
    "    print(\"\\nDonnez la valeur décimale stockée en mémoire si le code 'complément à 1' était utilisé :\")\n",
    "    resultat = f_cplt1(contenu)\n",
    "    print(f\">>> {resultat}\")\n",
    "\n",
    "    print(\"\\nDonnez la valeur décimale stockée en mémoire si le code 'complément à 2' était utilisé :\")\n",
    "    resultat = f_cplt2(contenu)\n",
    "    print(f\">>> {resultat}\")\n",
    "\n",
    "def cplt(bitstring):\n",
    "    \"\"\"fonction complément\"\"\"\n",
    "    res = [str(int(a=='0')) for a in bitstring]\n",
    "    return ''.join(res)\n",
    "\n",
    "def f_bsva(num):\n",
    "    \"\"\"code par bit de signe et valeur absolue\"\"\"\n",
    "    if num[0]=='0':\n",
    "        return int(num[1:], 2)\n",
    "    else:\n",
    "        return - int(num[1:], 2)\n",
    "\n",
    "def f_cplt1(num):\n",
    "    \"\"\"code complément à 1\"\"\"\n",
    "    if num[0]=='0':\n",
    "        return int(num[1:], 2)\n",
    "    else:\n",
    "        return - int(cplt(num), 2)\n",
    "\n",
    "def f_cplt2(num):\n",
    "    \"\"\"code complément à 2\"\"\"\n",
    "    if num[0]=='0':\n",
    "        return int(num[1:], 2)\n",
    "    else:\n",
    "        return - int(cplt(num), 2) - 1\n",
    "\n",
    "def bcd(num):\n",
    "    \"\"\"code BCD\"\"\"\n",
    "    h, l = int(num[:4], 2), int(num[4:], 2)\n",
    "    if h >9 or l>9 :\n",
    "        return None\n",
    "    return int(num[:4], 2)*10+int(num[4:], 2)\n",
    "\n",
    "def bn(num):\n",
    "    \"\"\"binaire naturel\"\"\"\n",
    "    return int(num, 2)"
   ]
  },
  {
   "cell_type": "code",
   "execution_count": 31,
   "id": "measured-interview",
   "metadata": {},
   "outputs": [
    {
     "data": {
      "application/vnd.jupyter.widget-view+json": {
       "model_id": "01bc8593663d49a397bbdea4ec431178",
       "version_major": 2,
       "version_minor": 0
      },
      "text/plain": [
       "interactive(children=(IntSlider(value=127, description='x', max=255), Output()), _dom_classes=('widget-interac…"
      ]
     },
     "metadata": {},
     "output_type": "display_data"
    }
   ],
   "source": [
    "interact(f, x=(0,255));"
   ]
  },
  {
   "cell_type": "code",
   "execution_count": null,
   "id": "weird-karen",
   "metadata": {},
   "outputs": [],
   "source": []
  }
 ],
 "metadata": {
  "kernelspec": {
   "display_name": "Python 3",
   "language": "python",
   "name": "python3"
  },
  "language_info": {
   "codemirror_mode": {
    "name": "ipython",
    "version": 3
   },
   "file_extension": ".py",
   "mimetype": "text/x-python",
   "name": "python",
   "nbconvert_exporter": "python",
   "pygments_lexer": "ipython3",
   "version": "3.7.7"
  }
 },
 "nbformat": 4,
 "nbformat_minor": 5
}
