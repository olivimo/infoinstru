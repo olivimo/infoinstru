{
 "cells": [
  {
   "cell_type": "code",
   "execution_count": 7,
   "id": "determined-diving",
   "metadata": {},
   "outputs": [],
   "source": [
    "import random"
   ]
  },
  {
   "cell_type": "code",
   "execution_count": 11,
   "id": "mental-elite",
   "metadata": {},
   "outputs": [],
   "source": [
    "def cplt(bitstring):\n",
    "    \"\"\"fonction complément\"\"\"\n",
    "    res = [str(int(a=='0')) for a in bitstring]\n",
    "    return ''.join(res)\n",
    "\n",
    "def f_bsva(num):\n",
    "    \"\"\"code par bit de signe et valeur absolue\"\"\"\n",
    "    if num[0]=='0':\n",
    "        return int(num[1:], 2)\n",
    "    else:\n",
    "        return - int(num[1:], 2)\n",
    "\n",
    "def f_cplt1(num):\n",
    "    \"\"\"code complément à 1\"\"\"\n",
    "    if num[0]=='0':\n",
    "        return int(num[1:], 2)\n",
    "    else:\n",
    "        return - int(cplt(num), 2)\n",
    "\n",
    "def f_cplt2(num):\n",
    "    \"\"\"code complément à 2\"\"\"\n",
    "    if num[0]=='0':\n",
    "        return int(num[1:], 2)\n",
    "    else:\n",
    "        return - int(cplt(num), 2) - 1\n",
    "\n",
    "def bcd(num):\n",
    "    \"\"\"code BCD\"\"\"\n",
    "    h, l = int(num[:4], 2), int(num[4:], 2)\n",
    "    if h >9 or l>9 :\n",
    "        return None\n",
    "    return int(num[:4], 2)*10+int(num[4:], 2)\n",
    "\n",
    "def bn(num):\n",
    "    \"\"\"binaire naturel\"\"\"\n",
    "    return int(num, 2)"
   ]
  },
  {
   "cell_type": "code",
   "execution_count": 2,
   "id": "italian-aggregate",
   "metadata": {},
   "outputs": [],
   "source": [
    "numbers = list(range(0x80, 0x8A)) + list(range(0x90, 0x9A))\n",
    "numbers = [f'{n:b}' for n in numbers]"
   ]
  },
  {
   "cell_type": "code",
   "execution_count": 62,
   "id": "dietary-accuracy",
   "metadata": {},
   "outputs": [
    {
     "name": "stdout",
     "output_type": "stream",
     "text": [
      "Soit une mémoire de 8 bits dont le contenu exprimé en base 16 est donné par : bd.\n",
      "\n",
      "Exprimez les valeurs des 8 bits de la mémoire :\n",
      ">>> 10111101\n",
      "\n",
      "Donnez la valeur décimale stockée en mémoire si le code binaire naturel était utilisé :\n",
      ">>> 189\n",
      "\n",
      "Donnez la valeur décimale stockée en mémoire si le code BCD était utilisé :\n",
      ">>> None\n",
      "\n",
      "Donnez la valeur décimale stockée en mémoire si le code 'complément à 1' était utilisé :\n",
      ">>> -66\n",
      "\n",
      "Donnez la valeur décimale stockée en mémoire si le code 'complément à 2' était utilisé :\n",
      ">>> -67\n"
     ]
    }
   ],
   "source": [
    "# choix = random.choice(numbers)\n",
    "choix = random.randrange(256)\n",
    "\n",
    "print(f\"Soit une mémoire de 8 bits dont le contenu exprimé en base 16 est donné par : {choix:02x}.\")\n",
    "print(f\"\\nExprimez les valeurs des 8 bits de la mémoire :\")\n",
    "contenu =  f\"{choix:08b}\"\n",
    "print(f\">>> {contenu}\")\n",
    "\n",
    "print(\"\\nDonnez la valeur décimale stockée en mémoire si le code binaire naturel était utilisé :\")\n",
    "resultat = bn(contenu)\n",
    "print(f\">>> {resultat}\")\n",
    "\n",
    "print(\"\\nDonnez la valeur décimale stockée en mémoire si le code BCD était utilisé :\")\n",
    "resultat = bcd(contenu)\n",
    "print(f\">>> {resultat}\")\n",
    "\n",
    "print(f\"\\nDonnez la valeur décimale stockée en mémoire si le code 'complément à 1' était utilisé :\")\n",
    "resultat = f_cplt1(contenu)\n",
    "print(f\">>> {resultat}\")\n",
    "\n",
    "print(f\"\\nDonnez la valeur décimale stockée en mémoire si le code 'complément à 2' était utilisé :\")\n",
    "resultat = f_cplt2(contenu)\n",
    "print(f\">>> {resultat}\")\n"
   ]
  },
  {
   "cell_type": "code",
   "execution_count": null,
   "id": "governmental-preference",
   "metadata": {},
   "outputs": [],
   "source": []
  }
 ],
 "metadata": {
  "kernelspec": {
   "display_name": "Python 3",
   "language": "python",
   "name": "python3"
  },
  "language_info": {
   "codemirror_mode": {
    "name": "ipython",
    "version": 3
   },
   "file_extension": ".py",
   "mimetype": "text/x-python",
   "name": "python",
   "nbconvert_exporter": "python",
   "pygments_lexer": "ipython3",
   "version": "3.7.7"
  }
 },
 "nbformat": 4,
 "nbformat_minor": 5
}
